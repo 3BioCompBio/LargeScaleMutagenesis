{
 "cells": [
  {
   "cell_type": "markdown",
   "metadata": {},
   "source": [
    "# <center><ins>Data generation</ins>"
   ]
  },
  {
   "cell_type": "markdown",
   "metadata": {},
   "source": [
    "- The generation of the data requires a .txt file consisting of a list of PDB identifiers formatted as a single 'pdbid_chain' string per line (to be located in the '/List' directory). The second requirement are the PoPMuSiC output files corresponding to the entries of the afore-mentionned list (located in the '/Data/pop' directory). The whole pipeline for generating the data can then be achieved by first editing the 'config.py' with the relevant paths and then executing 'exec.py' (both are located in the '/Code' directory). See the 3 steps below for a more detailed explanation of the pipeline.\n",
    "\n",
    "\n",
    "- The lists for the datasets used in our paper ('Mpop' and 'Mexp') are located in the '/List' directory. \n",
    "\n",
    "\n",
    "- Data examples are given for PDB id '1A9N'.\n"
   ]
  },
  {
   "cell_type": "markdown",
   "metadata": {},
   "source": [
    "## 1) <ins>Stability change computation:</ins>\n",
    "\n",
    "The first step in generating the data is to apply the $PoPMuSiC^{}$ algorithm (http://dezyme.com/) on the PDB structures (https://www.rcsb.org/) of a dataset of interest. The output contains, among other information, the predicted stability change for the 19 variants of each residue of the protein structures. Access to the version $PoPMuSiC^{sym}$ (https://doi.org/10.1016/j.ifacol.2015.05.068) will be available soon."
   ]
  },
  {
   "cell_type": "markdown",
   "metadata": {},
   "source": [
    "## 2) <ins>Codon mapping:</ins>\n",
    "The second step consists in mapping the codons coding for the residues of each protein in the dataset of interest. First, 'get_seq_aa.py' generates a fasta file of the amino acid sequence of each protein. Then, 'get_seq_na.py' retreives the available nucleotide sequences of transcripts for each protein. Then, 'get_ali.py' aligns a translation of the retrieved nucleotide sequences with the amino acid sequence for each protein. Finally, 'get_ali_map.py' evaluates the best alignment (based on identity and similarity thresholds) and generates a file that maps the  ensembl identifier of the best alignment to the pdb identifier of its protein."
   ]
  },
  {
   "cell_type": "markdown",
   "metadata": {},
   "source": [
    "## 3) <ins>Mutational ensembles definition:</ins>\n",
    "\n",
    "The last step is to define the mutational ensembles (i.e. single or multiple nucleotide substitution, at which position, ...) corresponding to each variants of the residues of each protein based on the mapped codons, and to integrate that information to the output files of PoPMuSiC. First, 'get_mut.py' generates the files that link the variants to their respective mutational ensembles. Then, 'get_xfiles.py' generates the final data files to be used in the analysis."
   ]
  },
  {
   "cell_type": "markdown",
   "metadata": {},
   "source": [
    "# <center><ins>Data analysis</ins>"
   ]
  },
  {
   "cell_type": "markdown",
   "metadata": {},
   "source": [
    "- The data analysis simply requires to extract the relevant data from the previously generated .popx files.\n",
    "\n",
    "\n",
    "- The extra data required for some analyses (such as the codon usage bias data or the fitness data) is located in '/Extra'."
   ]
  }
 ],
 "metadata": {
  "kernelspec": {
   "display_name": "Python 3",
   "language": "python",
   "name": "python3"
  },
  "language_info": {
   "codemirror_mode": {
    "name": "ipython",
    "version": 3
   },
   "file_extension": ".py",
   "mimetype": "text/x-python",
   "name": "python",
   "nbconvert_exporter": "python",
   "pygments_lexer": "ipython3",
   "version": "3.6.4"
  }
 },
 "nbformat": 4,
 "nbformat_minor": 2
}
